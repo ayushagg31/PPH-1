{
 "cells": [
  {
   "cell_type": "code",
   "execution_count": null,
   "metadata": {},
   "outputs": [],
   "source": [
    "def sentiment(text):\n",
    "    path = ''\n",
    "    from google.cloud import language\n",
    "    from google.cloud.language import enums\n",
    "    from google.cloud.language import types\n",
    "    from google.oauth2 import service_account\n",
    "\n",
    "    # Instantiates a client\n",
    "    credentials = service_account.Credentials.from_service_account_file(path)\n",
    "    client = language.LanguageServiceClient(credentials=credentials)\n",
    "    document = types.Document(\n",
    "            content=text,\n",
    "            type=enums.Document.Type.PLAIN_TEXT)\n",
    "\n",
    "    # Detects the sentiment of the text\n",
    "    analyze_sentiment = client.analyze_sentiment(document=document)\n",
    "\n",
    "    sentiment = analyze_sentiment.document_sentiment\n",
    "    score = sentiment.score\n",
    "    \n",
    "    if (score >= 0):\n",
    "        return 'Low'\n",
    "    elif ((score < 0) and (score >= -0.4)) :\n",
    "        return 'Medium'\n",
    "    elif ((score > -0.7) and (score < -0.4)):\n",
    "        return 'High'\n",
    "    elif (score <= -0.7):\n",
    "        return 'Very High'"
   ]
  },
  {
   "cell_type": "code",
   "execution_count": 10,
   "metadata": {},
   "outputs": [],
   "source": [
    "# Need to write the generalize response in the classes_response list\n",
    "# Please do it using the Stephane mail\n",
    "# Also for classification_index = 11, we don't have to show any response, because category is others\n",
    "# How to run: priority_response_mapping(index)\n",
    "# index value ranges from 0 to 11\n",
    "def priority_response_mapping(classification_index):\n",
    "    classes_response = ['Response_Account','Response_Auditing','Response_Banking','Response_Communication','Response_Currencies_Foreign_Exchange','Response_Enquiry',\n",
    "               'Response_Insurance','Response_Investing','Response_Loans_Credit_Lending','Response_Mail_Package_Delivery','Response_card','Response_others']\n",
    "    return classes_response[classification_index]"
   ]
  },
  {
   "cell_type": "code",
   "execution_count": 12,
   "metadata": {},
   "outputs": [
    {
     "data": {
      "text/plain": [
       "'Response_card'"
      ]
     },
     "execution_count": 12,
     "metadata": {},
     "output_type": "execute_result"
    }
   ],
   "source": [
    "priority_response_mapping(10)"
   ]
  },
  {
   "cell_type": "code",
   "execution_count": 2,
   "metadata": {},
   "outputs": [],
   "source": [
    "# Imports the Google Cloud client library\n",
    "from google.cloud import language\n",
    "from google.cloud.language import enums\n",
    "from google.cloud.language import types\n",
    "from google.oauth2 import service_account\n",
    "# Instantiates a client\n",
    "path = '/home/gozmit/Desktop/paris-ilab-ac423a5385ae.json'\n",
    "credentials = service_account.Credentials.from_service_account_file(path)\n",
    "s_client = language.LanguageServiceClient(credentials=credentials)"
   ]
  },
  {
   "cell_type": "code",
   "execution_count": 28,
   "metadata": {},
   "outputs": [],
   "source": [
    "text = ''' dear madam, by your secure message of 10/02/2012, you express your dissatisfaction with the lack of receipt of the SMS required to validate your hughes-walker made by credit card on the internet. I regret the inconvenience this has caused. the sources of this occasional malfunction can be multiple: the phone number you use does not correspond to the one registered in our systems, a cutoff of the telephone network of your mobile operator took place, a cut of the network intervened on the platforms used by banking institutions for sending sms, etc.? in this case the telephone number 0021202222121 that you use? to date - corresponds to the one registered in our systems. after research with the ines-marthe concerned, the latter confirms that the SMS are sent to your mobile phone. Also, while waiting for the restoration of your connection, I inform you that it is possible for you to enter remy-girard-chambers-isern-sandro with our laurence-agnes relations faria-moura in order to temporarily unblock the situation . to do this, all you need to do is harvey-murphy your username and your 2-digit access code. in this case you have two options, either ask to be able to authenticate with your date of birth, but this is limited in time. pszczolka either indicate a landline number to receive the code 1d secure. to join the laurence-agnes of auger-lefevre, serna-henriques-almeida you are in france we invite you to dial 0210 11 11 11 and serna-henriques-almeida you are abroad you must dial 00 11 1 22 12. I would like to assure you of the constant will of our teams to continue to earn your trust and express the wish of maintaining your confidence in our institution. Kind regards, bank france ines-marthe customers ----- original message ----- from: paul 10 a: ines-marthe customers - administrative management / bank france date: 10/02/2012 02:01:01 subject : complaint hello, i have tried to make a purchase with my card bank. There was a security check and the laurent-michel informed me that a sms was sent to my phone number for the verification code. however, i did not receive anything. i was waiting for a few days ago but there was no sms. i have checked my phone number for my account and it was ok. could simona-pinheiro please check again what is the problem? fyi, my phone no: +21 202222 121 thanks a lot teofil regards heinz-jurgen-keller sent by mobile banking.''' \n"
   ]
  },
  {
   "cell_type": "code",
   "execution_count": 29,
   "metadata": {},
   "outputs": [
    {
     "data": {
      "text/plain": [
       "'Communication'"
      ]
     },
     "execution_count": 29,
     "metadata": {},
     "output_type": "execute_result"
    }
   ],
   "source": [
    "classification(text)"
   ]
  },
  {
   "cell_type": "code",
   "execution_count": 27,
   "metadata": {},
   "outputs": [],
   "source": [
    "def classification(text):\n",
    "    card = ['credit card','ceiling', 'mastercard', 'bank card', 'visa card', 'mastercard cards', 'code', 'key', 'blue card', 'visa classic card', 'credit card ceilings', 'ceilings', 'ceiling increase', 'limit','cards', 'fraud', 'ceilings card','card.']\n",
    "    Account = ['receipt', 'holder','withdrawals','check deposits','cash account', 'sum', 'operations', 'coupons', 'rent', 'repayment', 'travel dates', 'procedures', 'smartform', 'mobile banking', 'mobile bank', 'funds', 'amount', 'form', 'chequing account', 'statements', 'securities accounts', 'closing', 'savings accounts', 'transactions', 'transfer', 'check', 'cancellation', 'transfers', 'Account','account statements', 'account manager', 'transfer limit', 'transaction','account opening','accounts','account']\n",
    "    Insurance = ['beneficiaries', 'life insurance contract', 'bank insurance']\n",
    "    Banking = ['clients', 'bank','coupons','client bank', 'documents', 'password', 'secure code', 'advisor', 'consultant', 'councilor', 'number', 'access', 'reactivation', 'authorization', 'payment', 'payment attempt', 'invoices', 'invoice request','customers']\n",
    "    Loans_Credit_Lending = ['assurance', 'conservatory seizure', 'protection', 'change', 'confidence', 'contract']\n",
    "    Mail_Package_Delivery = ['letter', 'booklet', 'agency', 'order', 'items', 'address', 'checkbook order', 'dispatch']\n",
    "    Investing = ['closing', 'amount', 'redemption document', 'analysis', 'investment solution', 'pact law', 'investment document', 'investment']\n",
    "    Auditing = ['tax notice', 'levy', 'disposal', 'law', 'return form', 'property']\n",
    "    Currencies_Foreign_Exchange = ['law', 'charge', 'resident', 'transfer fees']\n",
    "    Communication = [ 'message', 'voice message', 'SMS', 'phone conversaton', 'reference', 'appointment', 'phone appointment', 'recipient', 'information', 'messaging', 'note', 'return message', 'smartphone banking app', 'mail address', 'email']\n",
    "    Enquiry = ['incident', 'inconvenience', 'request', 'inquiry', 'dispute', 'demand', 'reason', 'colleagues', 'opposition', 'question', 'action', 'explanations', 'case', 'problem', 'fear', 'answer', 'challenge', 'subject', 'need', 'instruction']\n",
    "    labels = [card,Account,Insurance, Banking,Loans_Credit_Lending,Mail_Package_Delivery,Investing,Auditing,Currencies_Foreign_Exchange,Communication,Enquiry]\n",
    "    label_name = ['card','Account','Insurance','Banking','Loans_Credit_Lending','Mail_Package_Delivery','Investing','Auditing','Currencies_Foreign_Exchange','Communication','Enquiry']  \n",
    "    # Imports the Google Cloud client library\n",
    "    from google.cloud import language\n",
    "    from google.cloud.language import enums\n",
    "    from google.cloud.language import types\n",
    "    from google.oauth2 import service_account\n",
    "    # Instantiates a client\n",
    "    path = '/home/gozmit/Desktop/paris-ilab-ac423a5385ae.json'\n",
    "    credentials = service_account.Credentials.from_service_account_file(path)\n",
    "    s_client = language.LanguageServiceClient(credentials=credentials)\n",
    "\n",
    "    document = types.Document(\n",
    "    content=text,\n",
    "    type=enums.Document.Type.PLAIN_TEXT)\n",
    "    entities = s_client.analyze_entities(document).entities\n",
    "\n",
    "    for entity in entities:\n",
    "        entity_type = enums.Entity.Type(entity.type)\n",
    "        tag = entity.name\n",
    "        break\n",
    "    flag = 0\n",
    "    for i in range(len(labels)):\n",
    "        if tag in labels[i]:\n",
    "            flag = 1\n",
    "            return(label_name[i])\n",
    "    if flag is 0:\n",
    "        return('others')\n",
    "\n",
    "    \n"
   ]
  }
 ],
 "metadata": {
  "kernelspec": {
   "display_name": "Python 3",
   "language": "python",
   "name": "python3"
  },
  "language_info": {
   "codemirror_mode": {
    "name": "ipython",
    "version": 3
   },
   "file_extension": ".py",
   "mimetype": "text/x-python",
   "name": "python",
   "nbconvert_exporter": "python",
   "pygments_lexer": "ipython3",
   "version": "3.7.3"
  }
 },
 "nbformat": 4,
 "nbformat_minor": 2
}
